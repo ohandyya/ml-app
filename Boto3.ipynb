{
 "cells": [
  {
   "cell_type": "markdown",
   "metadata": {},
   "source": [
    "# Test DynamoDB API"
   ]
  },
  {
   "cell_type": "code",
   "execution_count": null,
   "metadata": {},
   "outputs": [],
   "source": [
    "from typing import Tuple, Dict\n",
    "import logging\n",
    "\n",
    "import numpy as np\n",
    "import boto3\n",
    "\n",
    "import time\n",
    "from pprint import pprint\n",
    "\n",
    "logging.basicConfig(level=logging.INFO)\n",
    "logger = logging.getLogger(__name__)"
   ]
  },
  {
   "cell_type": "markdown",
   "metadata": {},
   "source": [
    "## Constant"
   ]
  },
  {
   "cell_type": "code",
   "execution_count": null,
   "metadata": {},
   "outputs": [],
   "source": [
    "REGION = 'us-east-1'\n",
    "TABLE_NAME = \"ActivityCnt\""
   ]
  },
  {
   "cell_type": "code",
   "execution_count": null,
   "metadata": {},
   "outputs": [],
   "source": [
    "import boto3\n",
    "client = boto3.client('dynamodb', region_name=REGION)"
   ]
  },
  {
   "cell_type": "markdown",
   "metadata": {},
   "source": [
    "## query"
   ]
  },
  {
   "cell_type": "code",
   "execution_count": null,
   "metadata": {},
   "outputs": [],
   "source": [
    "response = client.query(\n",
    "    TableName=TABLE_NAME,\n",
    "    #Select='ALL_PROJECTED_ATTRIBUTES',\n",
    "    KeyConditionExpression='gender = :genderVal',\n",
    "    ExpressionAttributeValues={\n",
    "        ':genderVal': {\n",
    "            'S': 'male',\n",
    "        }\n",
    "    },\n",
    "    #ProjectionExpression=\"activity, cnt\"\n",
    ")"
   ]
  },
  {
   "cell_type": "code",
   "execution_count": null,
   "metadata": {},
   "outputs": [],
   "source": [
    "pprint(response)"
   ]
  },
  {
   "cell_type": "code",
   "execution_count": null,
   "metadata": {},
   "outputs": [],
   "source": [
    "response.get(\"Items\")[0]"
   ]
  },
  {
   "cell_type": "code",
   "execution_count": null,
   "metadata": {},
   "outputs": [],
   "source": [
    "def get_act_cnt_from_dynamodb(gender: str) -> Dict[str, int]:\n",
    "    \"\"\"Get per-gender activity count from DyanmoDB\n",
    "\n",
    "    Args:\n",
    "        gender (str): [description]\n",
    "\n",
    "    Returns:\n",
    "        Dict[str, int]: [description]\n",
    "    \"\"\"\n",
    "    # Query DybamoDB\n",
    "    try:\n",
    "        response = client.query(\n",
    "            TableName=TABLE_NAME,\n",
    "            KeyConditionExpression='gender = :genderVal',\n",
    "            ExpressionAttributeValues={\n",
    "                ':genderVal': {\n",
    "                    'S': gender,\n",
    "                }\n",
    "            },\n",
    "        )\n",
    "    except Exception as e:\n",
    "        logger.error(\n",
    "            f\"Failed to query DynamoDB: {TABLE_NAME}. Error message: {e}. \"\n",
    "            \"Return empty dictionary.\"\n",
    "        )\n",
    "        return dict()\n",
    "\n",
    "    # Create final dict\n",
    "    res = dict()\n",
    "    for item in response.get('Items', []):\n",
    "        activity = item.get(\"activity\", {}).get(\"S\", \"\")\n",
    "        cnt = int(item.get(\"cnt\", {}).get(\"N\", '0'))\n",
    "        res[activity] = cnt\n",
    "\n",
    "    logger.info(f\"For {gender}, the activity count is: {res}\")\n",
    "    return res"
   ]
  },
  {
   "cell_type": "code",
   "execution_count": null,
   "metadata": {},
   "outputs": [],
   "source": [
    "get_act_cnt_from_dynamodb(\"male\")"
   ]
  },
  {
   "cell_type": "code",
   "execution_count": null,
   "metadata": {},
   "outputs": [],
   "source": [
    "sum([])"
   ]
  },
  {
   "cell_type": "markdown",
   "metadata": {},
   "source": [
    "## get_item"
   ]
  },
  {
   "cell_type": "code",
   "execution_count": null,
   "metadata": {},
   "outputs": [],
   "source": [
    "ts = time.time()\n",
    "response = client.get_item(\n",
    "    TableName = TABLE_NAME,\n",
    "    Key = {\n",
    "        \"gender\": {\n",
    "            \"S\": \"male\",\n",
    "        },\n",
    "        \"activity\": {\n",
    "            \"S\": \"swimming\",\n",
    "        }\n",
    "    }\n",
    ")\n",
    "tused = time.time() - ts\n",
    "print(tused)"
   ]
  },
  {
   "cell_type": "code",
   "execution_count": null,
   "metadata": {},
   "outputs": [],
   "source": [
    "pprint(response)"
   ]
  },
  {
   "cell_type": "code",
   "execution_count": null,
   "metadata": {},
   "outputs": [],
   "source": [
    "# Getting an itme that does not exist\n",
    "# Response will still be dict, but it will not have 'Item' key\n",
    "response = client.get_item(\n",
    "    TableName = TABLE_NAME,\n",
    "    Key = {\n",
    "        \"gender\": {\n",
    "            \"S\": \"male2\",\n",
    "        },\n",
    "        \"activity\": {\n",
    "            \"S\": \"swimming\",\n",
    "        }\n",
    "    }\n",
    ")\n",
    "pprint(response)"
   ]
  },
  {
   "cell_type": "markdown",
   "metadata": {},
   "source": [
    "## put_item"
   ]
  },
  {
   "cell_type": "code",
   "execution_count": null,
   "metadata": {},
   "outputs": [],
   "source": [
    "response = client.put_item(\n",
    "    TableName=TABLE_NAME,\n",
    "    Item={\n",
    "        \"gender\": {\n",
    "            \"S\": \"male\",\n",
    "        },\n",
    "        \"activity\": {\n",
    "            \"S\": \"baseball\",\n",
    "        },\n",
    "        \"cnt\": {\n",
    "            \"N\": \"1\"\n",
    "        },\n",
    "    },\n",
    "    ReturnValues=\"ALL_OLD\"\n",
    ")"
   ]
  },
  {
   "cell_type": "code",
   "execution_count": null,
   "metadata": {},
   "outputs": [],
   "source": [
    "pprint(response)"
   ]
  },
  {
   "cell_type": "markdown",
   "metadata": {},
   "source": [
    "## update_item"
   ]
  },
  {
   "cell_type": "code",
   "execution_count": null,
   "metadata": {},
   "outputs": [],
   "source": [
    "response = client.update_item(\n",
    "    TableName=TABLE_NAME,\n",
    "    Key = {\n",
    "        \"gender\": {\n",
    "            \"S\": \"male\",\n",
    "        },\n",
    "        \"activity\": {\n",
    "            \"S\": \"biking\",\n",
    "        },\n",
    "    },\n",
    "    UpdateExpression=\"ADD cnt :x SET isNew = :val\",\n",
    "    ExpressionAttributeValues={\n",
    "        ':x': {\n",
    "            'N': '1',\n",
    "        },\n",
    "        ':val': {\n",
    "            'BOOL': True\n",
    "        }\n",
    "    },\n",
    ")"
   ]
  },
  {
   "cell_type": "code",
   "execution_count": null,
   "metadata": {},
   "outputs": [],
   "source": [
    "pprint(response)"
   ]
  },
  {
   "cell_type": "code",
   "execution_count": null,
   "metadata": {},
   "outputs": [],
   "source": [
    "response = client.update_item(\n",
    "    TableName=TABLE_NAME,\n",
    "    Key = {\n",
    "        \"gender\": {\n",
    "            \"S\": \"male\",\n",
    "        },\n",
    "        \"activity\": {\n",
    "            \"S\": \"biking\",\n",
    "        },\n",
    "    },\n",
    "    UpdateExpression=\"REMOVE isNew\",\n",
    ")"
   ]
  },
  {
   "cell_type": "code",
   "execution_count": null,
   "metadata": {},
   "outputs": [],
   "source": [
    "pprint(response)"
   ]
  },
  {
   "cell_type": "markdown",
   "metadata": {},
   "source": [
    "## describe_table"
   ]
  },
  {
   "cell_type": "code",
   "execution_count": null,
   "metadata": {},
   "outputs": [],
   "source": [
    "response = client.describe_table(TableName=TABLE_NAME)\n",
    "pprint(response)"
   ]
  },
  {
   "cell_type": "markdown",
   "metadata": {},
   "source": [
    "## AppJobs WorkFlow"
   ]
  },
  {
   "cell_type": "code",
   "execution_count": null,
   "metadata": {},
   "outputs": [],
   "source": [
    "client = boto3.client('dynamodb', region_name=REGION)"
   ]
  },
  {
   "cell_type": "code",
   "execution_count": null,
   "metadata": {},
   "outputs": [],
   "source": [
    "TABLE_NAME = \"AppJobs\"\n",
    "client = boto3.client('dynamodb', region_name=REGION)"
   ]
  },
  {
   "cell_type": "code",
   "execution_count": null,
   "metadata": {},
   "outputs": [],
   "source": [
    "import time\n",
    "from pprint import pprint"
   ]
  },
  {
   "cell_type": "markdown",
   "metadata": {},
   "source": [
    "### Create new job item"
   ]
  },
  {
   "cell_type": "code",
   "execution_count": null,
   "metadata": {},
   "outputs": [],
   "source": [
    "response = client.put_item(\n",
    "    TableName=TABLE_NAME,\n",
    "    Item={\n",
    "        \"jobId\": {\n",
    "            \"S\": \"ccc\",\n",
    "        },\n",
    "        \"requestedTs\": {\n",
    "            \"N\": str(time.time()),\n",
    "        },\n",
    "        \"jobToDo\": {\n",
    "            \"S\": 'Y',\n",
    "        },\n",
    "        \"input\": {\n",
    "            \"M\": {\n",
    "                \"user\": {\n",
    "                    \"S\": \"user1\",\n",
    "                },\n",
    "                \"tstart\": {\n",
    "                    \"N\": str(time.time()),\n",
    "                },\n",
    "                \"tend\": {\n",
    "                    \"N\": str(time.time()),\n",
    "                }\n",
    "            }\n",
    "        }\n",
    "    },\n",
    "    ReturnValues=\"ALL_OLD\"\n",
    ")"
   ]
  },
  {
   "cell_type": "code",
   "execution_count": null,
   "metadata": {},
   "outputs": [],
   "source": [
    "pprint(response)"
   ]
  },
  {
   "cell_type": "markdown",
   "metadata": {},
   "source": [
    "### Get all new jobs"
   ]
  },
  {
   "cell_type": "code",
   "execution_count": null,
   "metadata": {},
   "outputs": [],
   "source": [
    "response = client.query(\n",
    "    TableName=TABLE_NAME,\n",
    "    IndexName=\"jobToDo-requestedTs-index\",\n",
    "    KeyConditionExpression='jobToDo = :x',\n",
    "    ExpressionAttributeValues={\n",
    "        ':x': {\n",
    "            'S': 'Y',\n",
    "        }\n",
    "    },\n",
    ")"
   ]
  },
  {
   "cell_type": "code",
   "execution_count": null,
   "metadata": {},
   "outputs": [],
   "source": [
    "pprint(response)"
   ]
  },
  {
   "cell_type": "code",
   "execution_count": null,
   "metadata": {},
   "outputs": [],
   "source": [
    "response.get(\"Items\")"
   ]
  },
  {
   "cell_type": "code",
   "execution_count": null,
   "metadata": {},
   "outputs": [],
   "source": [
    "item = response.get(\"Items\")[-1]"
   ]
  },
  {
   "cell_type": "code",
   "execution_count": null,
   "metadata": {},
   "outputs": [],
   "source": [
    "item"
   ]
  },
  {
   "cell_type": "code",
   "execution_count": null,
   "metadata": {},
   "outputs": [],
   "source": [
    "item.get(\"requestedTs\").get('N', \"\")"
   ]
  },
  {
   "cell_type": "markdown",
   "metadata": {},
   "source": [
    "### Update the new jobs to working in progress"
   ]
  },
  {
   "cell_type": "code",
   "execution_count": null,
   "metadata": {},
   "outputs": [],
   "source": [
    "response = client.update_item(\n",
    "    TableName=TABLE_NAME,\n",
    "    Key = {\n",
    "        \"jobId\": {\n",
    "            \"S\": \"firstJobId\",\n",
    "        },\n",
    "        \"requestedTs\": {\n",
    "            \"N\": \"1608849485.8781471\",\n",
    "        },\n",
    "    },\n",
    "    UpdateExpression=\"REMOVE jobToDo SET jobStatus = :val\",\n",
    "    ExpressionAttributeValues={\n",
    "        ':val': {\n",
    "            'S': \"Working in progress\"\n",
    "        }\n",
    "    },\n",
    ")"
   ]
  },
  {
   "cell_type": "code",
   "execution_count": null,
   "metadata": {},
   "outputs": [],
   "source": [
    "pprint(response)"
   ]
  },
  {
   "cell_type": "code",
   "execution_count": null,
   "metadata": {},
   "outputs": [],
   "source": [
    "def update_new_job(item: dict) -> Tuple[dict, bool]:\n",
    "    \"\"\"Set the (jobId, requestedTs) to \"working in progress\"\n",
    "\n",
    "    Args:\n",
    "        item (dict):\n",
    "\n",
    "    Returns:\n",
    "        dict: updated item (if update is successful)\n",
    "        bool: whether update is success or not\n",
    "\n",
    "    \"\"\"\n",
    "    jobId = item.get(\"jobId\", {}).get('S', \"\")\n",
    "    requestedTs = item.get(\"requestedTs\").get('N', \"\")\n",
    "    try:\n",
    "        logger.info(f\"Update jobId={jobId}, requestedTs={requestedTs}\")\n",
    "        response = client.update_item(\n",
    "            TableName=TABLE_NAME,\n",
    "            Key={\n",
    "                \"jobId\": {\n",
    "                    \"S\": jobId,\n",
    "                },\n",
    "                \"requestedTs\": {\n",
    "                    \"N\": requestedTs,\n",
    "                },\n",
    "            },\n",
    "            UpdateExpression=\"REMOVE jobToDo SET jobStatus = :val\",\n",
    "            ExpressionAttributeValues={\n",
    "                ':val': {\n",
    "                    'S': \"Working in progress\"\n",
    "                }\n",
    "            },\n",
    "        )\n",
    "    except Exception as e:\n",
    "        logger.error(\n",
    "            f\"Fail to update {TABLE_NAME}. jobId = {jobId}, \"\n",
    "            f\"requestedTs={requestedTs}. Exception message: {e}\"\n",
    "        )\n",
    "        return item, False\n",
    "\n",
    "    # Check response code\n",
    "    if response.get('ResponseMetadata', {}).get('HTTPStatusCode') != 200:\n",
    "        logger.error(\n",
    "            f\"Receive non-200 http status code. Full response = {response}\"\n",
    "        )\n",
    "        return item, False\n",
    "\n",
    "    # Update item\n",
    "    item['jobStatus'] = {'S': \"Working in progress\"}\n",
    "    del item['jobToDo']\n",
    "    return item, True\n"
   ]
  },
  {
   "cell_type": "code",
   "execution_count": null,
   "metadata": {},
   "outputs": [],
   "source": [
    "item, ok = update_new_job(item)"
   ]
  },
  {
   "cell_type": "code",
   "execution_count": null,
   "metadata": {},
   "outputs": [],
   "source": [
    "item"
   ]
  },
  {
   "cell_type": "code",
   "execution_count": null,
   "metadata": {},
   "outputs": [],
   "source": [
    "item.get(\"input\", {}).get('M', {}).get('tstart', {}).get('S', \"\")"
   ]
  },
  {
   "cell_type": "code",
   "execution_count": null,
   "metadata": {},
   "outputs": [],
   "source": [
    "import datetime\n",
    "tstart = datetime.datetime.strptime(\n",
    "        item.get(\"input\", {}).get('M', {}).get('tstart', {}).get('S', \"\"),\n",
    "        '%Y-%m-%d'\n",
    "    ).date()\n",
    "tstart"
   ]
  },
  {
   "cell_type": "code",
   "execution_count": null,
   "metadata": {},
   "outputs": [],
   "source": [
    "item"
   ]
  },
  {
   "cell_type": "markdown",
   "metadata": {},
   "source": [
    "### Update item to be completed"
   ]
  },
  {
   "cell_type": "code",
   "execution_count": null,
   "metadata": {},
   "outputs": [],
   "source": [
    "def update_complete_job(item: dict, key: str) -> bool:\n",
    "    \"\"\"Update item with completed job information\n",
    "\n",
    "    Args:\n",
    "        item (dict): [description]\n",
    "        key (str): [description]\n",
    "\n",
    "    Returns:\n",
    "        bool: whether the update is success or not\n",
    "\n",
    "    \"\"\"\n",
    "    jobId = item.get(\"jobId\", {}).get('S', \"\")\n",
    "    requestedTs = item.get(\"requestedTs\").get('N', \"\")\n",
    "    try:\n",
    "        logger.info(\n",
    "            f\"Job complete update: jobId={jobId}, requestedTs={requestedTs}\")\n",
    "        _ = client.update_item(\n",
    "            TableName=TABLE_NAME,\n",
    "            Key={\n",
    "                \"jobId\": {\n",
    "                    \"S\": jobId,\n",
    "                },\n",
    "                \"requestedTs\": {\n",
    "                    \"N\": requestedTs,\n",
    "                },\n",
    "            },\n",
    "            UpdateExpression=\"SET jobStatus = :val, outData = :out\",\n",
    "            ExpressionAttributeValues={\n",
    "                ':val': {\n",
    "                    'S': \"Done\"\n",
    "                },\n",
    "                ':out': {\n",
    "                    'M': {\n",
    "                        \"Bucket\": {\n",
    "                            'S': S3_BUCKET,\n",
    "                        },\n",
    "                        \"Key\": {\n",
    "                            'S': key,\n",
    "                        }\n",
    "                    }\n",
    "                }\n",
    "            },\n",
    "        )\n",
    "    except Exception as e:\n",
    "        logger.error(\n",
    "            f\"Job complete update fail: {TABLE_NAME}, jobId = {jobId}, \"\n",
    "            f\"requestedTs={requestedTs}. Exception message: {e}\"\n",
    "        )\n",
    "        return False\n",
    "    return True"
   ]
  },
  {
   "cell_type": "code",
   "execution_count": null,
   "metadata": {},
   "outputs": [],
   "source": [
    "key=\"test.csv\"\n",
    "S3_BUCKET = \"ml-app-2020\""
   ]
  },
  {
   "cell_type": "code",
   "execution_count": null,
   "metadata": {},
   "outputs": [],
   "source": [
    "update_complete_job(item, key)"
   ]
  },
  {
   "cell_type": "code",
   "execution_count": null,
   "metadata": {},
   "outputs": [],
   "source": [
    "item"
   ]
  },
  {
   "cell_type": "code",
   "execution_count": null,
   "metadata": {},
   "outputs": [],
   "source": [
    "# Get job\n",
    "jobId = \"f611a542-99f3-4dd8-bda5-c2fd52eba316\"\n",
    "\n",
    "response = client.query(\n",
    "    TableName=TABLE_NAME,\n",
    "    KeyConditionExpression='jobId = :x',\n",
    "    ExpressionAttributeValues={\n",
    "        ':x': {\n",
    "            'S': jobId,\n",
    "        }\n",
    "    },\n",
    ")"
   ]
  },
  {
   "cell_type": "code",
   "execution_count": null,
   "metadata": {},
   "outputs": [],
   "source": [
    "item = response.get(\"Items\")[0]\n",
    "item"
   ]
  },
  {
   "cell_type": "code",
   "execution_count": null,
   "metadata": {},
   "outputs": [],
   "source": [
    "item.get('jobStatus', {}).get('S', 'UNKNOWN')"
   ]
  },
  {
   "cell_type": "code",
   "execution_count": null,
   "metadata": {},
   "outputs": [],
   "source": [
    "item.get('outData', {}).get('M', {}).get(\"Bucket\", {}).get('S', \"\")"
   ]
  },
  {
   "cell_type": "code",
   "execution_count": null,
   "metadata": {},
   "outputs": [],
   "source": [
    "response"
   ]
  },
  {
   "cell_type": "markdown",
   "metadata": {},
   "source": [
    "# ECS"
   ]
  },
  {
   "cell_type": "code",
   "execution_count": null,
   "metadata": {},
   "outputs": [],
   "source": [
    "import boto3\n",
    "from pprint import pprint\n",
    "REGION = 'us-east-1'\n",
    "\n",
    "client = boto3.client('ecs', region_name=REGION)"
   ]
  },
  {
   "cell_type": "code",
   "execution_count": null,
   "metadata": {},
   "outputs": [],
   "source": [
    "# list_task_definition_families\n",
    "response = client.list_task_definition_families(\n",
    ")\n",
    "\n",
    "pprint(response)"
   ]
  },
  {
   "cell_type": "code",
   "execution_count": null,
   "metadata": {},
   "outputs": [],
   "source": [
    "# list_task_definitions\n",
    "response = client.list_task_definitions(\n",
    "    familyPrefix=\"ml_app_frontend\",\n",
    "    status=\"ACTIVE\"\n",
    ")\n",
    "\n",
    "pprint(response)"
   ]
  },
  {
   "cell_type": "code",
   "execution_count": null,
   "metadata": {},
   "outputs": [],
   "source": [
    "# list_tasks\n",
    "response = client.list_tasks(\n",
    "    cluster=\"ml-app-frontend\",\n",
    "    family=\"ml_app_backend\",\n",
    "    desiredStatus=\"RUNNING\",\n",
    ")\n",
    "pprint(response)"
   ]
  },
  {
   "cell_type": "code",
   "execution_count": null,
   "metadata": {},
   "outputs": [],
   "source": [
    "# describe_tasks\n",
    "response = client.describe_tasks(\n",
    "    cluster=\"ml-app-frontend\",\n",
    "    tasks=[\n",
    "        \"b2e2e7ae38014977bcd4188f4e3aaa59\"\n",
    "    ]\n",
    "    \n",
    ")\n",
    "pprint(response)\n",
    "\n",
    "pprint(response.get(\"tasks\", [])[0].get(\"lastStatus\"))"
   ]
  },
  {
   "cell_type": "markdown",
   "metadata": {},
   "source": [
    "## Stop task\n",
    "response = client.stop_task(\n",
    "    cluster=\"ml-app-frontend\",\n",
    "    task=\"74062aea67234c62a458bd6730ccda1a\"\n",
    ")"
   ]
  },
  {
   "cell_type": "code",
   "execution_count": null,
   "metadata": {},
   "outputs": [],
   "source": [
    "from pprint import pprint\n",
    "pprint(response)"
   ]
  },
  {
   "cell_type": "code",
   "execution_count": null,
   "metadata": {},
   "outputs": [],
   "source": [
    "# Run Task (frontend)\n",
    "respose = client.run_task(\n",
    "    cluster=\"arn:aws:ecs:us-east-1:381982364978:cluster/ml-app-frontend\",\n",
    "    count=1,\n",
    "    launchType=\"FARGATE\",\n",
    "    taskDefinition=\"ml_app_frontend:6\",\n",
    "    networkConfiguration={\n",
    "        \"awsvpcConfiguration\": {\n",
    "            'subnets': [\"subnet-0957b628\",\"subnet-c66e8999\",\"subnet-33001a54\"],\n",
    "            'securityGroups': [\"sg-0e46917d122ae54de\"],\n",
    "            'assignPublicIp': 'ENABLED'\n",
    "        }\n",
    "    }\n",
    ")"
   ]
  },
  {
   "cell_type": "code",
   "execution_count": null,
   "metadata": {},
   "outputs": [],
   "source": [
    "# Run Task (backend)\n",
    "respose = client.run_task(\n",
    "    cluster=\"arn:aws:ecs:us-east-1:381982364978:cluster/ml-app-frontend\",\n",
    "    count=1,\n",
    "    launchType=\"FARGATE\",\n",
    "    taskDefinition=\"ml_app_backend:1\",\n",
    "    networkConfiguration={\n",
    "        \"awsvpcConfiguration\": {\n",
    "            'subnets': [\"subnet-c66e8999\"],\n",
    "            'securityGroups': [\"sg-09af5a1923947eac8\"],\n",
    "            'assignPublicIp': 'ENABLED'\n",
    "        }\n",
    "    }\n",
    ")"
   ]
  },
  {
   "cell_type": "code",
   "execution_count": null,
   "metadata": {},
   "outputs": [],
   "source": [
    "from pprint import pprint\n",
    "pprint(respose)"
   ]
  },
  {
   "cell_type": "markdown",
   "metadata": {},
   "source": [
    "# S3"
   ]
  },
  {
   "cell_type": "code",
   "execution_count": null,
   "metadata": {},
   "outputs": [],
   "source": [
    "client = boto3.client('s3', region_name=REGION)"
   ]
  },
  {
   "cell_type": "code",
   "execution_count": null,
   "metadata": {},
   "outputs": [],
   "source": [
    "# List bucket\n",
    "response = client.list_buckets()\n",
    "pprint(response)"
   ]
  },
  {
   "cell_type": "code",
   "execution_count": null,
   "metadata": {},
   "outputs": [],
   "source": [
    "# put_object\n",
    "response = client.put_object(\n",
    "    Body=\"fileuploaded\",\n",
    "    Bucket=\"ml-app-2020\",\n",
    "    Key=\"myfile.txt\"\n",
    ")"
   ]
  },
  {
   "cell_type": "code",
   "execution_count": null,
   "metadata": {},
   "outputs": [],
   "source": [
    "pprint(response)"
   ]
  },
  {
   "cell_type": "code",
   "execution_count": null,
   "metadata": {},
   "outputs": [],
   "source": [
    "with open(\"sample.csv\", \"r\") as f:\n",
    "    data = f.read()\n",
    "\n",
    "response = client.put_object(\n",
    "    Body=data,\n",
    "    Bucket=\"ml-app-2020\",\n",
    "    Key=\"sample_csv/sample.csv\"\n",
    ")"
   ]
  },
  {
   "cell_type": "code",
   "execution_count": null,
   "metadata": {},
   "outputs": [],
   "source": [
    "# delete a file\n",
    "response = client.delete_object(\n",
    "    Bucket=\"ml-app-2020\",\n",
    "    Key=\"setup.sh\",\n",
    "    \n",
    ")\n",
    "pprint(response)"
   ]
  },
  {
   "cell_type": "code",
   "execution_count": null,
   "metadata": {},
   "outputs": [],
   "source": [
    "# List objects\n",
    "response = client.list_objects_v2(\n",
    "    Bucket=\"ml-app-2020\",\n",
    "    Prefix=\"\",\n",
    ")"
   ]
  },
  {
   "cell_type": "code",
   "execution_count": null,
   "metadata": {},
   "outputs": [],
   "source": [
    "pprint(response)"
   ]
  },
  {
   "cell_type": "code",
   "execution_count": null,
   "metadata": {},
   "outputs": [],
   "source": [
    "# Download object\n",
    "response = client.get_object(\n",
    "    Bucket=\"ml-app-2020\",\n",
    "    Key=\"sample_csv/sample.csv\"\n",
    ")"
   ]
  },
  {
   "cell_type": "code",
   "execution_count": null,
   "metadata": {},
   "outputs": [],
   "source": [
    "pprint(response)"
   ]
  },
  {
   "cell_type": "code",
   "execution_count": null,
   "metadata": {},
   "outputs": [],
   "source": [
    "# Load the CSV file to pandas\n",
    "import pandas as pd\n",
    "df = pd.read_csv(response[\"Body\"])"
   ]
  },
  {
   "cell_type": "code",
   "execution_count": null,
   "metadata": {},
   "outputs": [],
   "source": [
    "df"
   ]
  },
  {
   "cell_type": "code",
   "execution_count": null,
   "metadata": {},
   "outputs": [],
   "source": [
    "res = response[\"Body\"].read()"
   ]
  },
  {
   "cell_type": "code",
   "execution_count": null,
   "metadata": {},
   "outputs": [],
   "source": [
    "res"
   ]
  },
  {
   "cell_type": "code",
   "execution_count": null,
   "metadata": {},
   "outputs": [],
   "source": [
    "## Write df to S3 directly\n",
    "response = client.put_object(\n",
    "    Body=df.to_csv(index=False).encode(),\n",
    "    Bucket=\"ml-app-2020\",\n",
    "    Key=\"sample_csv/sample_2.csv\"\n",
    ")"
   ]
  },
  {
   "cell_type": "code",
   "execution_count": null,
   "metadata": {},
   "outputs": [],
   "source": []
  }
 ],
 "metadata": {
  "kernelspec": {
   "display_name": "Python 3",
   "language": "python",
   "name": "python3"
  },
  "language_info": {
   "codemirror_mode": {
    "name": "ipython",
    "version": 3
   },
   "file_extension": ".py",
   "mimetype": "text/x-python",
   "name": "python",
   "nbconvert_exporter": "python",
   "pygments_lexer": "ipython3",
   "version": "3.8.6"
  }
 },
 "nbformat": 4,
 "nbformat_minor": 4
}
